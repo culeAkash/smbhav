{
 "cells": [
  {
   "cell_type": "code",
   "execution_count": 3,
   "metadata": {},
   "outputs": [
    {
     "name": "stderr",
     "output_type": "stream",
     "text": [
      "d:\\Personal\\fine-tune-model\\.venv\\Lib\\site-packages\\tqdm\\auto.py:21: TqdmWarning: IProgress not found. Please update jupyter and ipywidgets. See https://ipywidgets.readthedocs.io/en/stable/user_install.html\n",
      "  from .autonotebook import tqdm as notebook_tqdm\n"
     ]
    }
   ],
   "source": [
    "import kagglehub"
   ]
  },
  {
   "cell_type": "code",
   "execution_count": 4,
   "metadata": {},
   "outputs": [
    {
     "name": "stdout",
     "output_type": "stream",
     "text": [
      "Requirement already satisfied: kagglehub in d:\\personal\\fine-tune-model\\.venv\\lib\\site-packages (0.3.3)\n",
      "Requirement already satisfied: packaging in d:\\personal\\fine-tune-model\\.venv\\lib\\site-packages (from kagglehub) (24.1)\n",
      "Requirement already satisfied: requests in d:\\personal\\fine-tune-model\\.venv\\lib\\site-packages (from kagglehub) (2.32.3)\n",
      "Requirement already satisfied: tqdm in d:\\personal\\fine-tune-model\\.venv\\lib\\site-packages (from kagglehub) (4.66.5)\n",
      "Requirement already satisfied: charset-normalizer<4,>=2 in d:\\personal\\fine-tune-model\\.venv\\lib\\site-packages (from requests->kagglehub) (3.4.0)\n",
      "Requirement already satisfied: idna<4,>=2.5 in d:\\personal\\fine-tune-model\\.venv\\lib\\site-packages (from requests->kagglehub) (3.10)\n",
      "Requirement already satisfied: urllib3<3,>=1.21.1 in d:\\personal\\fine-tune-model\\.venv\\lib\\site-packages (from requests->kagglehub) (2.2.3)\n",
      "Requirement already satisfied: certifi>=2017.4.17 in d:\\personal\\fine-tune-model\\.venv\\lib\\site-packages (from requests->kagglehub) (2024.8.30)\n",
      "Requirement already satisfied: colorama in d:\\personal\\fine-tune-model\\.venv\\lib\\site-packages (from tqdm->kagglehub) (0.4.6)\n",
      "Note: you may need to restart the kernel to use updated packages.\n"
     ]
    }
   ],
   "source": [
    "%pip install kagglehub"
   ]
  },
  {
   "cell_type": "code",
   "execution_count": 5,
   "metadata": {},
   "outputs": [
    {
     "name": "stdout",
     "output_type": "stream",
     "text": [
      "Path to dataset files: C:\\Users\\akash\\.cache\\kagglehub\\datasets\\thedevastator\\2019-e-commerce-product-listings-from-amazon-ind\\versions\\2\n"
     ]
    }
   ],
   "source": [
    "path = kagglehub.dataset_download(\"thedevastator/2019-e-commerce-product-listings-from-amazon-ind\")\n",
    "\n",
    "print(\"Path to dataset files:\", path)"
   ]
  },
  {
   "cell_type": "code",
   "execution_count": 6,
   "metadata": {},
   "outputs": [
    {
     "name": "stdout",
     "output_type": "stream",
     "text": [
      "   index                           Uniq Id            Crawl Timestamp  \\\n",
      "0      0  eb49cc038190f6f03c272f79fbbce894  2019-10-30 11:38:11 +0000   \n",
      "1      1  1657cc30c438affede6a5060d6847363  2019-10-31 15:46:54 +0000   \n",
      "2      2  41654633cce38c8650690f6dbac01fd3  2019-10-30 09:53:23 +0000   \n",
      "3      3  08b1bd85c3efc2d7aa556fd79b073382  2019-10-29 16:16:52 +0000   \n",
      "4      4  3ac3f213732512d1d11bb73ab3b1900f  2019-10-31 09:32:06 +0000   \n",
      "\n",
      "                  Category                                      Product Title  \\\n",
      "0                Skin Care   Lee posh Lactic Acid 60% Anti ageing Pigmenta...   \n",
      "1                Skin Care   Branded SLB Works New 1.5mm Titanium 1200 nee...   \n",
      "2                Skin Care   Generic 1 Pc brand snail eye cream remove dar...   \n",
      "3                Skin Care   Generic Anti Snoring Snore Stopper Sleep Apne...   \n",
      "4  Grocery & Gourmet Foods   Harveys Crunchy & Creame Gourmet Delicacies C...   \n",
      "\n",
      "                                 Product Description      Brand  \\\n",
      "0  PROFESSIONAL GRADE Face Peel: this peel stimul...   Lee Posh   \n",
      "1  Item name: 1.5mm titanium 1200 needles microne...  SLB Works   \n",
      "2  Use: eye, item type: cream, net wt: 20g, gzzz:...    Generic   \n",
      "3  Prevent the tongue from dropping backward or b...    Generic   \n",
      "4     Harvey's wafer Cream Wafer 110g. Made in India    Harveys   \n",
      "\n",
      "  Pack Size Or Quantity      Mrp    Price  Site Name  Offers Combo Offers  \\\n",
      "0                   NaN  2000.00   799.00  Amazon In  60.05%          NaN   \n",
      "1                   NaN  2040.00  2040.00  Amazon In      0%          NaN   \n",
      "2                   NaN  1824.00  1042.00  Amazon In  42.87%          NaN   \n",
      "3                   NaN  2185.00  1399.00  Amazon In  35.97%          NaN   \n",
      "4                   NaN   594.00   570.00  Amazon In   4.04%          NaN   \n",
      "\n",
      "  Stock Availibility Product Asin  \\\n",
      "0                YES   B072BGHNJ1   \n",
      "1                YES   B07QDTZYSJ   \n",
      "2                YES   B07DCSN8MP   \n",
      "3                YES   B07GLW9VQN   \n",
      "4                YES   B07NFYYLF1   \n",
      "\n",
      "                                          Image Urls  \n",
      "0  https://images-na.ssl-images-amazon.com/images...  \n",
      "1  https://images-na.ssl-images-amazon.com/images...  \n",
      "2  https://images-na.ssl-images-amazon.com/images...  \n",
      "3  https://images-na.ssl-images-amazon.com/images...  \n",
      "4  https://images-na.ssl-images-amazon.com/images...  \n"
     ]
    }
   ],
   "source": [
    "import pandas as pd\n",
    "\n",
    "data = pd.read_csv(f'{path}/home_sdf_marketing_sample_for_amazon_in-ecommerce__20191001_20191031__30k_data.csv');\n",
    "\n",
    "print(data.head())"
   ]
  },
  {
   "cell_type": "code",
   "execution_count": 7,
   "metadata": {},
   "outputs": [
    {
     "name": "stdout",
     "output_type": "stream",
     "text": [
      "index                                                                  0\n",
      "Uniq Id                                 eb49cc038190f6f03c272f79fbbce894\n",
      "Category                                                       Skin Care\n",
      "Product Title           Lee posh Lactic Acid 60% Anti ageing Pigmenta...\n",
      "Product Description    PROFESSIONAL GRADE Face Peel: this peel stimul...\n",
      "Brand                                                           Lee Posh\n",
      "Mrp                                                              2000.00\n",
      "Price                                                             799.00\n",
      "Stock Availibility                                                   YES\n",
      "Image Urls             https://images-na.ssl-images-amazon.com/images...\n",
      "Name: 0, dtype: object\n"
     ]
    }
   ],
   "source": [
    "product_details = data.iloc[:,[0,1,3,4,5,6,8,9,13,15]]\n",
    "product_details = product_details.dropna(subset=['Uniq Id','Product Title','Product Description','Brand','Stock Availibility'])\n",
    "print(product_details.iloc[0])"
   ]
  },
  {
   "cell_type": "code",
   "execution_count": 8,
   "metadata": {},
   "outputs": [],
   "source": [
    "first_five_prods = product_details.head()"
   ]
  },
  {
   "cell_type": "code",
   "execution_count": 9,
   "metadata": {},
   "outputs": [],
   "source": [
    "class Product_Listing:\n",
    "    def __init__(self,index,uniq_id,category,product_title,product_description,brand,mrp,price,stock_avail,image_urls):\n",
    "        self.index = index;\n",
    "        self.uniq_id = uniq_id;\n",
    "        self.category = category;\n",
    "        self.product_title = product_title\n",
    "        self.product_description = product_description\n",
    "        self.brand = brand\n",
    "        self.mrp = mrp\n",
    "        self.price = price\n",
    "        self.stock_avail = stock_avail\n",
    "        self.image_urls = []\n",
    "        splitted_image_urls = image_urls.split(\"|\");\n",
    "        for url in splitted_image_urls:\n",
    "            self.image_urls.append(url)\n",
    "            \n",
    "    def to_dict(self):\n",
    "        return {\n",
    "            \"index\" : self.index,\n",
    "            \"uniq_id\": self.uniq_id,\n",
    "            \"category\": self.category,\n",
    "            \"product_title\": self.product_title,\n",
    "            \"product_description\": self.product_description,\n",
    "            \"brand\": self.brand,\n",
    "            \"mrp\": self.mrp,\n",
    "            \"price\": self.price,\n",
    "            \"stock_avail\": self.stock_avail,\n",
    "            \"image_urls\": self.image_urls\n",
    "        }"
   ]
  },
  {
   "cell_type": "code",
   "execution_count": 10,
   "metadata": {},
   "outputs": [
    {
     "name": "stderr",
     "output_type": "stream",
     "text": [
      "C:\\Users\\akash\\AppData\\Local\\Temp\\ipykernel_14328\\442450352.py:5: FutureWarning: Series.__getitem__ treating keys as positions is deprecated. In a future version, integer keys will always be treated as labels (consistent with DataFrame behavior). To access a value by position, use `ser.iloc[pos]`\n",
      "  product = Product_Listing(row[0],row[1],row[2],row[3],row[4],row[5],row[6],row[7],row[8],row[9])\n"
     ]
    },
    {
     "name": "stdout",
     "output_type": "stream",
     "text": [
      "{'index': 0, 'uniq_id': 'eb49cc038190f6f03c272f79fbbce894', 'category': 'Skin Care', 'product_title': ' Lee posh Lactic Acid 60% Anti ageing Pigmentation Removing Glow Peel ', 'product_description': 'PROFESSIONAL GRADE Face Peel: this peel stimulates collagen production, reducing the appearance of wrinkles, fine lines, and hyper pigmentation in the skin by increasing cell regeneration Highly effective professional strength superficial solution Read direction for use on bottle of product & if any query call customer care', 'brand': 'Lee Posh', 'mrp': '2000.00', 'price': '799.00', 'stock_avail': 'YES', 'image_urls': ['https://images-na.ssl-images-amazon.com/images/I/41l0RjF1XIL._SS40_.jpg', 'https://images-na.ssl-images-amazon.com/images/I/41kBVM4KPwL._SS40_.jpg', 'https://images-na.ssl-images-amazon.com/images/I/41kBVM4KPwL._SS40_.jpg', 'https://images-na.ssl-images-amazon.com/images/I/41GL79CxubL._SS40_.jpg', 'https://images-na.ssl-images-amazon.com/images/G/01/x-locale/common/transparent-pixel._V192234675_.gif']}\n"
     ]
    }
   ],
   "source": [
    "0,1,3,4,5,6,8,9,13,15\n",
    "product_listings = []\n",
    "\n",
    "for index,row in product_details.iterrows():\n",
    "    product = Product_Listing(row[0],row[1],row[2],row[3],row[4],row[5],row[6],row[7],row[8],row[9])\n",
    "    product_listings.append(product.to_dict())\n",
    "    \n",
    "print(product_listings[0])"
   ]
  },
  {
   "cell_type": "code",
   "execution_count": 11,
   "metadata": {},
   "outputs": [],
   "source": [
    "import json\n",
    "with open(\"products_listing.json\",'w') as json_file:\n",
    "    json.dump(product_listings,json_file,indent=4)"
   ]
  },
  {
   "cell_type": "code",
   "execution_count": 12,
   "metadata": {},
   "outputs": [
    {
     "name": "stdout",
     "output_type": "stream",
     "text": [
      "Requirement already satisfied: mistralai in d:\\personal\\fine-tune-model\\.venv\\lib\\site-packages (1.1.0)\n",
      "Requirement already satisfied: eval-type-backport<0.3.0,>=0.2.0 in d:\\personal\\fine-tune-model\\.venv\\lib\\site-packages (from mistralai) (0.2.0)\n",
      "Requirement already satisfied: httpx<0.28.0,>=0.27.0 in d:\\personal\\fine-tune-model\\.venv\\lib\\site-packages (from mistralai) (0.27.2)\n",
      "Requirement already satisfied: jsonpath-python<2.0.0,>=1.0.6 in d:\\personal\\fine-tune-model\\.venv\\lib\\site-packages (from mistralai) (1.0.6)\n",
      "Requirement already satisfied: pydantic<3.0.0,>=2.9.0 in d:\\personal\\fine-tune-model\\.venv\\lib\\site-packages (from mistralai) (2.9.2)\n",
      "Requirement already satisfied: python-dateutil==2.8.2 in d:\\personal\\fine-tune-model\\.venv\\lib\\site-packages (from mistralai) (2.8.2)\n",
      "Requirement already satisfied: typing-inspect<0.10.0,>=0.9.0 in d:\\personal\\fine-tune-model\\.venv\\lib\\site-packages (from mistralai) (0.9.0)\n",
      "Requirement already satisfied: six>=1.5 in d:\\personal\\fine-tune-model\\.venv\\lib\\site-packages (from python-dateutil==2.8.2->mistralai) (1.16.0)\n",
      "Requirement already satisfied: anyio in d:\\personal\\fine-tune-model\\.venv\\lib\\site-packages (from httpx<0.28.0,>=0.27.0->mistralai) (4.6.2.post1)\n",
      "Requirement already satisfied: certifi in d:\\personal\\fine-tune-model\\.venv\\lib\\site-packages (from httpx<0.28.0,>=0.27.0->mistralai) (2024.8.30)\n",
      "Requirement already satisfied: httpcore==1.* in d:\\personal\\fine-tune-model\\.venv\\lib\\site-packages (from httpx<0.28.0,>=0.27.0->mistralai) (1.0.6)\n",
      "Requirement already satisfied: idna in d:\\personal\\fine-tune-model\\.venv\\lib\\site-packages (from httpx<0.28.0,>=0.27.0->mistralai) (3.10)\n",
      "Requirement already satisfied: sniffio in d:\\personal\\fine-tune-model\\.venv\\lib\\site-packages (from httpx<0.28.0,>=0.27.0->mistralai) (1.3.1)\n",
      "Requirement already satisfied: h11<0.15,>=0.13 in d:\\personal\\fine-tune-model\\.venv\\lib\\site-packages (from httpcore==1.*->httpx<0.28.0,>=0.27.0->mistralai) (0.14.0)\n",
      "Requirement already satisfied: annotated-types>=0.6.0 in d:\\personal\\fine-tune-model\\.venv\\lib\\site-packages (from pydantic<3.0.0,>=2.9.0->mistralai) (0.7.0)\n",
      "Requirement already satisfied: pydantic-core==2.23.4 in d:\\personal\\fine-tune-model\\.venv\\lib\\site-packages (from pydantic<3.0.0,>=2.9.0->mistralai) (2.23.4)\n",
      "Requirement already satisfied: typing-extensions>=4.6.1 in d:\\personal\\fine-tune-model\\.venv\\lib\\site-packages (from pydantic<3.0.0,>=2.9.0->mistralai) (4.12.2)\n",
      "Requirement already satisfied: mypy-extensions>=0.3.0 in d:\\personal\\fine-tune-model\\.venv\\lib\\site-packages (from typing-inspect<0.10.0,>=0.9.0->mistralai) (1.0.0)\n",
      "Note: you may need to restart the kernel to use updated packages.\n"
     ]
    }
   ],
   "source": [
    "%pip install mistralai"
   ]
  },
  {
   "cell_type": "code",
   "execution_count": 13,
   "metadata": {},
   "outputs": [],
   "source": [
    "import config\n",
    "from mistralai import Mistral\n",
    "\n",
    "api_key = config.API_KEY\n",
    "\n",
    "model = \"mistral-large-latest\"\n",
    "\n",
    "client = Mistral(api_key=api_key)"
   ]
  },
  {
   "cell_type": "code",
   "execution_count": 14,
   "metadata": {},
   "outputs": [],
   "source": [
    "with open('products_listing.json','r') as json_file:\n",
    "    data = json.load(json_file)"
   ]
  },
  {
   "cell_type": "code",
   "execution_count": 15,
   "metadata": {},
   "outputs": [],
   "source": [
    "json_listings = data"
   ]
  },
  {
   "cell_type": "code",
   "execution_count": 19,
   "metadata": {},
   "outputs": [],
   "source": [
    "input_output_listings = []\n",
    "for index in range(201):\n",
    "    chat_response = client.chat.complete(\n",
    "        model= model,\n",
    "        messages = [\n",
    "            {\n",
    "                \"role\": \"user\",\n",
    "                \"content\": f\"\"\"Create an engaging social media post to promote the following skincare product.Include a catchy introduction, highlight the key benefits, and encourage followers to make apurchase. Use an enthusiastic and inviting tone.\n",
    "\n",
    "                Product Information:\n",
    "\n",
    "                Product Title: {json_listings[index]['product_title']}\n",
    "                Category: {json_listings[index]['category']}\n",
    "                Description: {json_listings[index]['product_description']}\n",
    "                Brand: {json_listings[index]['brand']}\n",
    "                Price: {json_listings[index]['price']} (MRP: {json_listings[index]['mrp']})\n",
    "                Availability: In Stock\n",
    "                Make sure to create a sense of urgency and include a call to action!\"\"\",\n",
    "            },\n",
    "        ]\n",
    "    )\n",
    "    input = chat_response.choices[0].message.content\n",
    "    output = json_listings[index]\n",
    "    input_output_listings.append({\n",
    "        \"input\": input,\n",
    "        \"output\": output\n",
    "        })\n",
    "\n",
    "\n",
    "with open(\"listings_input_output.json\",'w') as json_file:\n",
    "        json.dump(input_output_listings,json_file,indent=4)"
   ]
  },
  {
   "cell_type": "markdown",
   "metadata": {},
   "source": [
    "index': 0, 'uniq_id': 'eb49cc038190f6f03c272f79fbbce894', 'category': 'Skin Care', 'product_title': ' Lee posh Lactic Acid 60% Anti ageing Pigmentation Removing Glow Peel ', 'product_description': 'PROFESSIONAL GRADE Face Peel: this peel stimulates collagen production, reducing the appearance of wrinkles, fine lines, and hyper pigmentation in the skin by increasing cell regeneration Highly effective professional strength superficial solution Read direction for use on bottle of product & if any query call customer care', 'brand': 'Lee Posh', 'mrp': '2000.00', 'price': '799.00', 'stock_avail': 'YES'\n"
   ]
  },
  {
   "cell_type": "markdown",
   "metadata": {},
   "source": []
  },
  {
   "cell_type": "markdown",
   "metadata": {},
   "source": []
  }
 ],
 "metadata": {
  "kernelspec": {
   "display_name": ".venv",
   "language": "python",
   "name": "python3"
  },
  "language_info": {
   "codemirror_mode": {
    "name": "ipython",
    "version": 3
   },
   "file_extension": ".py",
   "mimetype": "text/x-python",
   "name": "python",
   "nbconvert_exporter": "python",
   "pygments_lexer": "ipython3",
   "version": "3.11.9"
  }
 },
 "nbformat": 4,
 "nbformat_minor": 2
}
